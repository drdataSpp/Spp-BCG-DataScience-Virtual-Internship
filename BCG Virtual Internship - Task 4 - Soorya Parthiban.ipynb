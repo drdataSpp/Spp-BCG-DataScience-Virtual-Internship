{
 "cells": [
  {
   "cell_type": "markdown",
   "metadata": {},
   "source": [
    "# BCG Virtual Internship - Task 4: Model Building & Evaluation"
   ]
  },
  {
   "cell_type": "markdown",
   "metadata": {},
   "source": [
    "## Done By: Soorya Parthiban\n",
    "LinkedIn: https://www.linkedin.com/in/sooryaprakashparthiban/"
   ]
  },
  {
   "cell_type": "markdown",
   "metadata": {},
   "source": [
    "## Importing the required libraries"
   ]
  },
  {
   "cell_type": "code",
   "execution_count": 5,
   "metadata": {},
   "outputs": [],
   "source": [
    "import warnings\n",
    "warnings.filterwarnings('ignore')"
   ]
  },
  {
   "cell_type": "code",
   "execution_count": 28,
   "metadata": {},
   "outputs": [],
   "source": [
    "import numpy as np\n",
    "import pandas as pd\n",
    "import matplotlib.pyplot as plt\n",
    "import seaborn as sns\n",
    "\n",
    "from sklearn.model_selection import train_test_split\n",
    "from sklearn.metrics import accuracy_score, classification_report, confusion_matrix"
   ]
  },
  {
   "cell_type": "markdown",
   "metadata": {},
   "source": [
    "## Importing the dataset"
   ]
  },
  {
   "cell_type": "code",
   "execution_count": 7,
   "metadata": {},
   "outputs": [],
   "source": [
    "customer_df = pd.read_csv('BCG-Customer-BestFeatures.csv')"
   ]
  },
  {
   "cell_type": "code",
   "execution_count": 9,
   "metadata": {},
   "outputs": [],
   "source": [
    "customer_df.drop('Unnamed: 0', axis=1, inplace=True)"
   ]
  },
  {
   "cell_type": "code",
   "execution_count": 10,
   "metadata": {},
   "outputs": [
    {
     "data": {
      "text/html": [
       "<div>\n",
       "<style scoped>\n",
       "    .dataframe tbody tr th:only-of-type {\n",
       "        vertical-align: middle;\n",
       "    }\n",
       "\n",
       "    .dataframe tbody tr th {\n",
       "        vertical-align: top;\n",
       "    }\n",
       "\n",
       "    .dataframe thead th {\n",
       "        text-align: right;\n",
       "    }\n",
       "</style>\n",
       "<table border=\"1\" class=\"dataframe\">\n",
       "  <thead>\n",
       "    <tr style=\"text-align: right;\">\n",
       "      <th></th>\n",
       "      <th>id</th>\n",
       "      <th>margin_gross_pow_ele</th>\n",
       "      <th>num_years_antig</th>\n",
       "      <th>margin_net_pow_ele</th>\n",
       "      <th>ChSales_lmkebamcaaclubfxadlmueccxoimlema</th>\n",
       "      <th>cons_12m</th>\n",
       "      <th>cons_last_month</th>\n",
       "      <th>ChSales_foosdfpfkusacimwkcsosbicdxkicaua</th>\n",
       "      <th>cons_gas_12m</th>\n",
       "      <th>price_p3_fix</th>\n",
       "      <th>...</th>\n",
       "      <th>forecast_meter_rent_12m</th>\n",
       "      <th>net_margin</th>\n",
       "      <th>forecast_price_energy_p2</th>\n",
       "      <th>price_p2_var</th>\n",
       "      <th>nb_prod_act</th>\n",
       "      <th>forecast_discount_energy</th>\n",
       "      <th>ChSales_ewpakwlliwisiwduibdlfmalxowmwpci</th>\n",
       "      <th>pow_max</th>\n",
       "      <th>ChSales_sddiedcslfslkckwlfkdpoeeailfpeds</th>\n",
       "      <th>churn</th>\n",
       "    </tr>\n",
       "  </thead>\n",
       "  <tbody>\n",
       "    <tr>\n",
       "      <th>0</th>\n",
       "      <td>038af19179925da21a25619c5a24b745</td>\n",
       "      <td>21.52</td>\n",
       "      <td>3</td>\n",
       "      <td>21.52</td>\n",
       "      <td>0</td>\n",
       "      <td>3576</td>\n",
       "      <td>630</td>\n",
       "      <td>1</td>\n",
       "      <td>0</td>\n",
       "      <td>0.0</td>\n",
       "      <td>...</td>\n",
       "      <td>19.59</td>\n",
       "      <td>52.53</td>\n",
       "      <td>0.0</td>\n",
       "      <td>0.0</td>\n",
       "      <td>1</td>\n",
       "      <td>0.0</td>\n",
       "      <td>0</td>\n",
       "      <td>13.2</td>\n",
       "      <td>0</td>\n",
       "      <td>0</td>\n",
       "    </tr>\n",
       "    <tr>\n",
       "      <th>1</th>\n",
       "      <td>038af19179925da21a25619c5a24b745</td>\n",
       "      <td>21.52</td>\n",
       "      <td>3</td>\n",
       "      <td>21.52</td>\n",
       "      <td>0</td>\n",
       "      <td>3576</td>\n",
       "      <td>630</td>\n",
       "      <td>1</td>\n",
       "      <td>0</td>\n",
       "      <td>0.0</td>\n",
       "      <td>...</td>\n",
       "      <td>19.59</td>\n",
       "      <td>52.53</td>\n",
       "      <td>0.0</td>\n",
       "      <td>0.0</td>\n",
       "      <td>1</td>\n",
       "      <td>0.0</td>\n",
       "      <td>0</td>\n",
       "      <td>13.2</td>\n",
       "      <td>0</td>\n",
       "      <td>0</td>\n",
       "    </tr>\n",
       "    <tr>\n",
       "      <th>2</th>\n",
       "      <td>038af19179925da21a25619c5a24b745</td>\n",
       "      <td>21.52</td>\n",
       "      <td>3</td>\n",
       "      <td>21.52</td>\n",
       "      <td>0</td>\n",
       "      <td>3576</td>\n",
       "      <td>630</td>\n",
       "      <td>1</td>\n",
       "      <td>0</td>\n",
       "      <td>0.0</td>\n",
       "      <td>...</td>\n",
       "      <td>19.59</td>\n",
       "      <td>52.53</td>\n",
       "      <td>0.0</td>\n",
       "      <td>0.0</td>\n",
       "      <td>1</td>\n",
       "      <td>0.0</td>\n",
       "      <td>0</td>\n",
       "      <td>13.2</td>\n",
       "      <td>0</td>\n",
       "      <td>0</td>\n",
       "    </tr>\n",
       "    <tr>\n",
       "      <th>3</th>\n",
       "      <td>038af19179925da21a25619c5a24b745</td>\n",
       "      <td>21.52</td>\n",
       "      <td>3</td>\n",
       "      <td>21.52</td>\n",
       "      <td>0</td>\n",
       "      <td>3576</td>\n",
       "      <td>630</td>\n",
       "      <td>1</td>\n",
       "      <td>0</td>\n",
       "      <td>0.0</td>\n",
       "      <td>...</td>\n",
       "      <td>19.59</td>\n",
       "      <td>52.53</td>\n",
       "      <td>0.0</td>\n",
       "      <td>0.0</td>\n",
       "      <td>1</td>\n",
       "      <td>0.0</td>\n",
       "      <td>0</td>\n",
       "      <td>13.2</td>\n",
       "      <td>0</td>\n",
       "      <td>0</td>\n",
       "    </tr>\n",
       "    <tr>\n",
       "      <th>4</th>\n",
       "      <td>038af19179925da21a25619c5a24b745</td>\n",
       "      <td>21.52</td>\n",
       "      <td>3</td>\n",
       "      <td>21.52</td>\n",
       "      <td>0</td>\n",
       "      <td>3576</td>\n",
       "      <td>630</td>\n",
       "      <td>1</td>\n",
       "      <td>0</td>\n",
       "      <td>0.0</td>\n",
       "      <td>...</td>\n",
       "      <td>19.59</td>\n",
       "      <td>52.53</td>\n",
       "      <td>0.0</td>\n",
       "      <td>0.0</td>\n",
       "      <td>1</td>\n",
       "      <td>0.0</td>\n",
       "      <td>0</td>\n",
       "      <td>13.2</td>\n",
       "      <td>0</td>\n",
       "      <td>0</td>\n",
       "    </tr>\n",
       "  </tbody>\n",
       "</table>\n",
       "<p>5 rows × 23 columns</p>\n",
       "</div>"
      ],
      "text/plain": [
       "                                 id  margin_gross_pow_ele  num_years_antig  \\\n",
       "0  038af19179925da21a25619c5a24b745                 21.52                3   \n",
       "1  038af19179925da21a25619c5a24b745                 21.52                3   \n",
       "2  038af19179925da21a25619c5a24b745                 21.52                3   \n",
       "3  038af19179925da21a25619c5a24b745                 21.52                3   \n",
       "4  038af19179925da21a25619c5a24b745                 21.52                3   \n",
       "\n",
       "   margin_net_pow_ele  ChSales_lmkebamcaaclubfxadlmueccxoimlema  cons_12m  \\\n",
       "0               21.52                                         0      3576   \n",
       "1               21.52                                         0      3576   \n",
       "2               21.52                                         0      3576   \n",
       "3               21.52                                         0      3576   \n",
       "4               21.52                                         0      3576   \n",
       "\n",
       "   cons_last_month  ChSales_foosdfpfkusacimwkcsosbicdxkicaua  cons_gas_12m  \\\n",
       "0              630                                         1             0   \n",
       "1              630                                         1             0   \n",
       "2              630                                         1             0   \n",
       "3              630                                         1             0   \n",
       "4              630                                         1             0   \n",
       "\n",
       "   price_p3_fix  ...  forecast_meter_rent_12m  net_margin  \\\n",
       "0           0.0  ...                    19.59       52.53   \n",
       "1           0.0  ...                    19.59       52.53   \n",
       "2           0.0  ...                    19.59       52.53   \n",
       "3           0.0  ...                    19.59       52.53   \n",
       "4           0.0  ...                    19.59       52.53   \n",
       "\n",
       "   forecast_price_energy_p2  price_p2_var  nb_prod_act  \\\n",
       "0                       0.0           0.0            1   \n",
       "1                       0.0           0.0            1   \n",
       "2                       0.0           0.0            1   \n",
       "3                       0.0           0.0            1   \n",
       "4                       0.0           0.0            1   \n",
       "\n",
       "   forecast_discount_energy  ChSales_ewpakwlliwisiwduibdlfmalxowmwpci  \\\n",
       "0                       0.0                                         0   \n",
       "1                       0.0                                         0   \n",
       "2                       0.0                                         0   \n",
       "3                       0.0                                         0   \n",
       "4                       0.0                                         0   \n",
       "\n",
       "   pow_max  ChSales_sddiedcslfslkckwlfkdpoeeailfpeds  churn  \n",
       "0     13.2                                         0      0  \n",
       "1     13.2                                         0      0  \n",
       "2     13.2                                         0      0  \n",
       "3     13.2                                         0      0  \n",
       "4     13.2                                         0      0  \n",
       "\n",
       "[5 rows x 23 columns]"
      ]
     },
     "execution_count": 10,
     "metadata": {},
     "output_type": "execute_result"
    }
   ],
   "source": [
    "customer_df.head()"
   ]
  },
  {
   "cell_type": "code",
   "execution_count": 11,
   "metadata": {},
   "outputs": [
    {
     "data": {
      "text/html": [
       "<div>\n",
       "<style scoped>\n",
       "    .dataframe tbody tr th:only-of-type {\n",
       "        vertical-align: middle;\n",
       "    }\n",
       "\n",
       "    .dataframe tbody tr th {\n",
       "        vertical-align: top;\n",
       "    }\n",
       "\n",
       "    .dataframe thead th {\n",
       "        text-align: right;\n",
       "    }\n",
       "</style>\n",
       "<table border=\"1\" class=\"dataframe\">\n",
       "  <thead>\n",
       "    <tr style=\"text-align: right;\">\n",
       "      <th></th>\n",
       "      <th>id</th>\n",
       "      <th>margin_gross_pow_ele</th>\n",
       "      <th>num_years_antig</th>\n",
       "      <th>margin_net_pow_ele</th>\n",
       "      <th>ChSales_lmkebamcaaclubfxadlmueccxoimlema</th>\n",
       "      <th>cons_12m</th>\n",
       "      <th>cons_last_month</th>\n",
       "      <th>ChSales_foosdfpfkusacimwkcsosbicdxkicaua</th>\n",
       "      <th>cons_gas_12m</th>\n",
       "      <th>price_p3_fix</th>\n",
       "      <th>...</th>\n",
       "      <th>forecast_meter_rent_12m</th>\n",
       "      <th>net_margin</th>\n",
       "      <th>forecast_price_energy_p2</th>\n",
       "      <th>price_p2_var</th>\n",
       "      <th>nb_prod_act</th>\n",
       "      <th>forecast_discount_energy</th>\n",
       "      <th>ChSales_ewpakwlliwisiwduibdlfmalxowmwpci</th>\n",
       "      <th>pow_max</th>\n",
       "      <th>ChSales_sddiedcslfslkckwlfkdpoeeailfpeds</th>\n",
       "      <th>churn</th>\n",
       "    </tr>\n",
       "  </thead>\n",
       "  <tbody>\n",
       "    <tr>\n",
       "      <th>192997</th>\n",
       "      <td>16f51cdc2baa19af0b940ee1b3dd17d5</td>\n",
       "      <td>13.8</td>\n",
       "      <td>3</td>\n",
       "      <td>13.8</td>\n",
       "      <td>0</td>\n",
       "      <td>26272</td>\n",
       "      <td>2505</td>\n",
       "      <td>1</td>\n",
       "      <td>0</td>\n",
       "      <td>16.291555</td>\n",
       "      <td>...</td>\n",
       "      <td>129.61</td>\n",
       "      <td>325.43</td>\n",
       "      <td>0.100572</td>\n",
       "      <td>0.102232</td>\n",
       "      <td>1</td>\n",
       "      <td>0.0</td>\n",
       "      <td>0</td>\n",
       "      <td>15.1</td>\n",
       "      <td>0</td>\n",
       "      <td>0</td>\n",
       "    </tr>\n",
       "    <tr>\n",
       "      <th>192998</th>\n",
       "      <td>16f51cdc2baa19af0b940ee1b3dd17d5</td>\n",
       "      <td>13.8</td>\n",
       "      <td>3</td>\n",
       "      <td>13.8</td>\n",
       "      <td>0</td>\n",
       "      <td>26272</td>\n",
       "      <td>2505</td>\n",
       "      <td>1</td>\n",
       "      <td>0</td>\n",
       "      <td>16.291555</td>\n",
       "      <td>...</td>\n",
       "      <td>129.61</td>\n",
       "      <td>325.43</td>\n",
       "      <td>0.100572</td>\n",
       "      <td>0.102232</td>\n",
       "      <td>1</td>\n",
       "      <td>0.0</td>\n",
       "      <td>0</td>\n",
       "      <td>15.1</td>\n",
       "      <td>0</td>\n",
       "      <td>0</td>\n",
       "    </tr>\n",
       "    <tr>\n",
       "      <th>192999</th>\n",
       "      <td>16f51cdc2baa19af0b940ee1b3dd17d5</td>\n",
       "      <td>13.8</td>\n",
       "      <td>3</td>\n",
       "      <td>13.8</td>\n",
       "      <td>0</td>\n",
       "      <td>26272</td>\n",
       "      <td>2505</td>\n",
       "      <td>1</td>\n",
       "      <td>0</td>\n",
       "      <td>16.291555</td>\n",
       "      <td>...</td>\n",
       "      <td>129.61</td>\n",
       "      <td>325.43</td>\n",
       "      <td>0.100572</td>\n",
       "      <td>0.102232</td>\n",
       "      <td>1</td>\n",
       "      <td>0.0</td>\n",
       "      <td>0</td>\n",
       "      <td>15.1</td>\n",
       "      <td>0</td>\n",
       "      <td>0</td>\n",
       "    </tr>\n",
       "    <tr>\n",
       "      <th>193000</th>\n",
       "      <td>16f51cdc2baa19af0b940ee1b3dd17d5</td>\n",
       "      <td>13.8</td>\n",
       "      <td>3</td>\n",
       "      <td>13.8</td>\n",
       "      <td>0</td>\n",
       "      <td>26272</td>\n",
       "      <td>2505</td>\n",
       "      <td>1</td>\n",
       "      <td>0</td>\n",
       "      <td>16.291555</td>\n",
       "      <td>...</td>\n",
       "      <td>129.61</td>\n",
       "      <td>325.43</td>\n",
       "      <td>0.100572</td>\n",
       "      <td>0.102232</td>\n",
       "      <td>1</td>\n",
       "      <td>0.0</td>\n",
       "      <td>0</td>\n",
       "      <td>15.1</td>\n",
       "      <td>0</td>\n",
       "      <td>0</td>\n",
       "    </tr>\n",
       "    <tr>\n",
       "      <th>193001</th>\n",
       "      <td>16f51cdc2baa19af0b940ee1b3dd17d5</td>\n",
       "      <td>13.8</td>\n",
       "      <td>3</td>\n",
       "      <td>13.8</td>\n",
       "      <td>0</td>\n",
       "      <td>26272</td>\n",
       "      <td>2505</td>\n",
       "      <td>1</td>\n",
       "      <td>0</td>\n",
       "      <td>16.291555</td>\n",
       "      <td>...</td>\n",
       "      <td>129.61</td>\n",
       "      <td>325.43</td>\n",
       "      <td>0.100572</td>\n",
       "      <td>0.102232</td>\n",
       "      <td>1</td>\n",
       "      <td>0.0</td>\n",
       "      <td>0</td>\n",
       "      <td>15.1</td>\n",
       "      <td>0</td>\n",
       "      <td>0</td>\n",
       "    </tr>\n",
       "  </tbody>\n",
       "</table>\n",
       "<p>5 rows × 23 columns</p>\n",
       "</div>"
      ],
      "text/plain": [
       "                                      id  margin_gross_pow_ele  \\\n",
       "192997  16f51cdc2baa19af0b940ee1b3dd17d5                  13.8   \n",
       "192998  16f51cdc2baa19af0b940ee1b3dd17d5                  13.8   \n",
       "192999  16f51cdc2baa19af0b940ee1b3dd17d5                  13.8   \n",
       "193000  16f51cdc2baa19af0b940ee1b3dd17d5                  13.8   \n",
       "193001  16f51cdc2baa19af0b940ee1b3dd17d5                  13.8   \n",
       "\n",
       "        num_years_antig  margin_net_pow_ele  \\\n",
       "192997                3                13.8   \n",
       "192998                3                13.8   \n",
       "192999                3                13.8   \n",
       "193000                3                13.8   \n",
       "193001                3                13.8   \n",
       "\n",
       "        ChSales_lmkebamcaaclubfxadlmueccxoimlema  cons_12m  cons_last_month  \\\n",
       "192997                                         0     26272             2505   \n",
       "192998                                         0     26272             2505   \n",
       "192999                                         0     26272             2505   \n",
       "193000                                         0     26272             2505   \n",
       "193001                                         0     26272             2505   \n",
       "\n",
       "        ChSales_foosdfpfkusacimwkcsosbicdxkicaua  cons_gas_12m  price_p3_fix  \\\n",
       "192997                                         1             0     16.291555   \n",
       "192998                                         1             0     16.291555   \n",
       "192999                                         1             0     16.291555   \n",
       "193000                                         1             0     16.291555   \n",
       "193001                                         1             0     16.291555   \n",
       "\n",
       "        ...  forecast_meter_rent_12m  net_margin  forecast_price_energy_p2  \\\n",
       "192997  ...                   129.61      325.43                  0.100572   \n",
       "192998  ...                   129.61      325.43                  0.100572   \n",
       "192999  ...                   129.61      325.43                  0.100572   \n",
       "193000  ...                   129.61      325.43                  0.100572   \n",
       "193001  ...                   129.61      325.43                  0.100572   \n",
       "\n",
       "        price_p2_var  nb_prod_act  forecast_discount_energy  \\\n",
       "192997      0.102232            1                       0.0   \n",
       "192998      0.102232            1                       0.0   \n",
       "192999      0.102232            1                       0.0   \n",
       "193000      0.102232            1                       0.0   \n",
       "193001      0.102232            1                       0.0   \n",
       "\n",
       "        ChSales_ewpakwlliwisiwduibdlfmalxowmwpci  pow_max  \\\n",
       "192997                                         0     15.1   \n",
       "192998                                         0     15.1   \n",
       "192999                                         0     15.1   \n",
       "193000                                         0     15.1   \n",
       "193001                                         0     15.1   \n",
       "\n",
       "        ChSales_sddiedcslfslkckwlfkdpoeeailfpeds  churn  \n",
       "192997                                         0      0  \n",
       "192998                                         0      0  \n",
       "192999                                         0      0  \n",
       "193000                                         0      0  \n",
       "193001                                         0      0  \n",
       "\n",
       "[5 rows x 23 columns]"
      ]
     },
     "execution_count": 11,
     "metadata": {},
     "output_type": "execute_result"
    }
   ],
   "source": [
    "customer_df.tail()"
   ]
  },
  {
   "cell_type": "code",
   "execution_count": 19,
   "metadata": {},
   "outputs": [
    {
     "data": {
      "text/plain": [
       "id                                          0\n",
       "margin_gross_pow_ele                        0\n",
       "num_years_antig                             0\n",
       "margin_net_pow_ele                          0\n",
       "ChSales_lmkebamcaaclubfxadlmueccxoimlema    0\n",
       "cons_12m                                    0\n",
       "cons_last_month                             0\n",
       "ChSales_foosdfpfkusacimwkcsosbicdxkicaua    0\n",
       "cons_gas_12m                                0\n",
       "price_p3_fix                                0\n",
       "price_p3_var                                0\n",
       "price_p2_fix                                0\n",
       "has_gas_                                    0\n",
       "forecast_meter_rent_12m                     0\n",
       "net_margin                                  0\n",
       "forecast_price_energy_p2                    0\n",
       "price_p2_var                                0\n",
       "nb_prod_act                                 0\n",
       "forecast_discount_energy                    0\n",
       "ChSales_ewpakwlliwisiwduibdlfmalxowmwpci    0\n",
       "pow_max                                     0\n",
       "ChSales_sddiedcslfslkckwlfkdpoeeailfpeds    0\n",
       "churn                                       0\n",
       "dtype: int64"
      ]
     },
     "execution_count": 19,
     "metadata": {},
     "output_type": "execute_result"
    }
   ],
   "source": [
    "customer_df.isnull().sum()"
   ]
  },
  {
   "cell_type": "code",
   "execution_count": 56,
   "metadata": {},
   "outputs": [
    {
     "name": "stdout",
     "output_type": "stream",
     "text": [
      "<class 'pandas.core.frame.DataFrame'>\n",
      "RangeIndex: 193002 entries, 0 to 193001\n",
      "Data columns (total 23 columns):\n",
      " #   Column                                    Non-Null Count   Dtype  \n",
      "---  ------                                    --------------   -----  \n",
      " 0   id                                        193002 non-null  object \n",
      " 1   margin_gross_pow_ele                      193002 non-null  float64\n",
      " 2   num_years_antig                           193002 non-null  int64  \n",
      " 3   margin_net_pow_ele                        193002 non-null  float64\n",
      " 4   ChSales_lmkebamcaaclubfxadlmueccxoimlema  193002 non-null  int64  \n",
      " 5   cons_12m                                  193002 non-null  int64  \n",
      " 6   cons_last_month                           193002 non-null  int64  \n",
      " 7   ChSales_foosdfpfkusacimwkcsosbicdxkicaua  193002 non-null  int64  \n",
      " 8   cons_gas_12m                              193002 non-null  int64  \n",
      " 9   price_p3_fix                              193002 non-null  float64\n",
      " 10  price_p3_var                              193002 non-null  float64\n",
      " 11  price_p2_fix                              193002 non-null  float64\n",
      " 12  has_gas_                                  193002 non-null  int64  \n",
      " 13  forecast_meter_rent_12m                   193002 non-null  float64\n",
      " 14  net_margin                                193002 non-null  float64\n",
      " 15  forecast_price_energy_p2                  193002 non-null  float64\n",
      " 16  price_p2_var                              193002 non-null  float64\n",
      " 17  nb_prod_act                               193002 non-null  int64  \n",
      " 18  forecast_discount_energy                  193002 non-null  float64\n",
      " 19  ChSales_ewpakwlliwisiwduibdlfmalxowmwpci  193002 non-null  int64  \n",
      " 20  pow_max                                   193002 non-null  float64\n",
      " 21  ChSales_sddiedcslfslkckwlfkdpoeeailfpeds  193002 non-null  int64  \n",
      " 22  churn                                     193002 non-null  int64  \n",
      "dtypes: float64(11), int64(11), object(1)\n",
      "memory usage: 33.9+ MB\n"
     ]
    }
   ],
   "source": [
    "customer_df.info()"
   ]
  },
  {
   "cell_type": "code",
   "execution_count": 57,
   "metadata": {},
   "outputs": [
    {
     "data": {
      "text/plain": [
       "0    173893\n",
       "1     19109\n",
       "Name: churn, dtype: int64"
      ]
     },
     "execution_count": 57,
     "metadata": {},
     "output_type": "execute_result"
    }
   ],
   "source": [
    "customer_df['churn'].value_counts()"
   ]
  },
  {
   "cell_type": "markdown",
   "metadata": {},
   "source": [
    "## Building the ML Models"
   ]
  },
  {
   "cell_type": "code",
   "execution_count": 22,
   "metadata": {},
   "outputs": [],
   "source": [
    "X = customer_df.drop(['churn', 'id'], axis=1)\n",
    "y = customer_df['churn']"
   ]
  },
  {
   "cell_type": "code",
   "execution_count": 23,
   "metadata": {},
   "outputs": [],
   "source": [
    "# Train and Test Set\n",
    "X_train, X_test, y_train, y_test = train_test_split(X, y, test_size=0.2, random_state=1)\n",
    "\n",
    "# Train and Validation Set\n",
    "X_train, X_val, y_train, y_val = train_test_split(X_train, y_train, test_size=0.25, random_state=1) "
   ]
  },
  {
   "cell_type": "markdown",
   "metadata": {},
   "source": [
    "### XGBoost Classifier"
   ]
  },
  {
   "cell_type": "code",
   "execution_count": 24,
   "metadata": {},
   "outputs": [],
   "source": [
    "from xgboost import XGBClassifier"
   ]
  },
  {
   "cell_type": "code",
   "execution_count": 25,
   "metadata": {},
   "outputs": [],
   "source": [
    "xgb = XGBClassifier(objective='binary:logistic')"
   ]
  },
  {
   "cell_type": "code",
   "execution_count": 26,
   "metadata": {},
   "outputs": [
    {
     "data": {
      "text/plain": [
       "XGBClassifier(base_score=0.5, booster='gbtree', colsample_bylevel=1,\n",
       "              colsample_bynode=1, colsample_bytree=1, gamma=0, gpu_id=-1,\n",
       "              importance_type='gain', interaction_constraints='',\n",
       "              learning_rate=0.300000012, max_delta_step=0, max_depth=6,\n",
       "              min_child_weight=1, missing=nan, monotone_constraints='()',\n",
       "              n_estimators=100, n_jobs=0, num_parallel_tree=1, random_state=0,\n",
       "              reg_alpha=0, reg_lambda=1, scale_pos_weight=1, subsample=1,\n",
       "              tree_method='exact', validate_parameters=1, verbosity=None)"
      ]
     },
     "execution_count": 26,
     "metadata": {},
     "output_type": "execute_result"
    }
   ],
   "source": [
    "xgb.fit(X_train, y_train)"
   ]
  },
  {
   "cell_type": "code",
   "execution_count": 27,
   "metadata": {},
   "outputs": [
    {
     "name": "stdout",
     "output_type": "stream",
     "text": [
      "XGB model's score:  0.9520737804720085\n"
     ]
    }
   ],
   "source": [
    "print(\"XGB model's score: \", xgb.score(X_test, y_test))"
   ]
  },
  {
   "cell_type": "code",
   "execution_count": 29,
   "metadata": {},
   "outputs": [],
   "source": [
    "y_preds_xgb = xgb.predict(X_test)"
   ]
  },
  {
   "cell_type": "code",
   "execution_count": 30,
   "metadata": {},
   "outputs": [
    {
     "name": "stdout",
     "output_type": "stream",
     "text": [
      "XGB model's accuracy:  0.9520737804720085\n"
     ]
    }
   ],
   "source": [
    "print(\"XGB model's accuracy: \", accuracy_score(y_test, y_preds_xgb))"
   ]
  },
  {
   "cell_type": "code",
   "execution_count": 32,
   "metadata": {},
   "outputs": [
    {
     "name": "stdout",
     "output_type": "stream",
     "text": [
      "XGB model's Classification Report: \n",
      " \n",
      "               precision    recall  f1-score   support\n",
      "\n",
      "           0       0.95      1.00      0.97     34826\n",
      "           1       1.00      0.51      0.68      3775\n",
      "\n",
      "    accuracy                           0.95     38601\n",
      "   macro avg       0.97      0.76      0.83     38601\n",
      "weighted avg       0.95      0.95      0.94     38601\n",
      "\n"
     ]
    }
   ],
   "source": [
    "print(\"XGB model's Classification Report: \\n \\n\", classification_report(y_test, y_preds_xgb))"
   ]
  },
  {
   "cell_type": "markdown",
   "metadata": {},
   "source": [
    "### Random Forest Classifier"
   ]
  },
  {
   "cell_type": "code",
   "execution_count": 33,
   "metadata": {},
   "outputs": [],
   "source": [
    "from sklearn.ensemble import RandomForestClassifier"
   ]
  },
  {
   "cell_type": "code",
   "execution_count": 39,
   "metadata": {},
   "outputs": [],
   "source": [
    "rfc = RandomForestClassifier(n_estimators=1500, bootstrap= True, max_depth= 70, max_features= 'auto', min_samples_leaf= 4,\n",
    "min_samples_split= 10)"
   ]
  },
  {
   "cell_type": "code",
   "execution_count": 40,
   "metadata": {},
   "outputs": [
    {
     "data": {
      "text/plain": [
       "RandomForestClassifier(max_depth=70, min_samples_leaf=4, min_samples_split=10,\n",
       "                       n_estimators=1500)"
      ]
     },
     "execution_count": 40,
     "metadata": {},
     "output_type": "execute_result"
    }
   ],
   "source": [
    "rfc.fit(X_train, y_train)"
   ]
  },
  {
   "cell_type": "code",
   "execution_count": 41,
   "metadata": {},
   "outputs": [
    {
     "name": "stdout",
     "output_type": "stream",
     "text": [
      "Random Forest Classifier model's score:  0.9961659024377607\n"
     ]
    }
   ],
   "source": [
    "print(\"Random Forest Classifier model's score: \", rfc.score(X_test, y_test))"
   ]
  },
  {
   "cell_type": "code",
   "execution_count": 42,
   "metadata": {},
   "outputs": [],
   "source": [
    "y_preds_rfc = rfc.predict(X_test)"
   ]
  },
  {
   "cell_type": "code",
   "execution_count": 43,
   "metadata": {},
   "outputs": [
    {
     "name": "stdout",
     "output_type": "stream",
     "text": [
      "Random Forest Classifier model's accuracy:  0.9961659024377607\n"
     ]
    }
   ],
   "source": [
    "print(\"Random Forest Classifier model's accuracy: \", accuracy_score(y_test, y_preds_rfc))"
   ]
  },
  {
   "cell_type": "code",
   "execution_count": 44,
   "metadata": {},
   "outputs": [
    {
     "name": "stdout",
     "output_type": "stream",
     "text": [
      "Random Forest Classifier model's Classification Report: \n",
      " \n",
      "               precision    recall  f1-score   support\n",
      "\n",
      "           0       1.00      1.00      1.00     34826\n",
      "           1       1.00      0.96      0.98      3775\n",
      "\n",
      "    accuracy                           1.00     38601\n",
      "   macro avg       1.00      0.98      0.99     38601\n",
      "weighted avg       1.00      1.00      1.00     38601\n",
      "\n"
     ]
    }
   ],
   "source": [
    "print(\"Random Forest Classifier model's Classification Report: \\n \\n\", classification_report(y_test, y_preds_rfc))"
   ]
  },
  {
   "cell_type": "markdown",
   "metadata": {},
   "source": [
    "## Evaluating the Models on Validation Set"
   ]
  },
  {
   "cell_type": "markdown",
   "metadata": {},
   "source": [
    "### XGB Model on Validation Set (New Data)"
   ]
  },
  {
   "cell_type": "code",
   "execution_count": 45,
   "metadata": {},
   "outputs": [],
   "source": [
    "y_val_xgb = xgb.predict(X_val)"
   ]
  },
  {
   "cell_type": "code",
   "execution_count": 52,
   "metadata": {},
   "outputs": [
    {
     "name": "stdout",
     "output_type": "stream",
     "text": [
      "XGB validation score:  0.9527991502810808\n"
     ]
    }
   ],
   "source": [
    "print(\"XGB validation score: \", accuracy_score(y_val, y_val_xgb))"
   ]
  },
  {
   "cell_type": "code",
   "execution_count": 55,
   "metadata": {},
   "outputs": [
    {
     "name": "stdout",
     "output_type": "stream",
     "text": [
      "XGB model's Classification Report on Validation Set: \n",
      " \n",
      "               precision    recall  f1-score   support\n",
      "\n",
      "           0       0.90      0.95      0.93     34809\n",
      "           1       0.10      0.05      0.07      3792\n",
      "\n",
      "    accuracy                           0.86     38601\n",
      "   macro avg       0.50      0.50      0.50     38601\n",
      "weighted avg       0.82      0.86      0.84     38601\n",
      "\n"
     ]
    }
   ],
   "source": [
    "print(\"XGB model's Classification Report on Validation Set: \\n \\n\", classification_report(y_val, y_preds_xgb))"
   ]
  },
  {
   "cell_type": "code",
   "execution_count": 58,
   "metadata": {},
   "outputs": [
    {
     "data": {
      "text/plain": [
       "Text(0.5, 1.0, 'Confusion Matrix for XGB Model on Validation Set')"
      ]
     },
     "execution_count": 58,
     "metadata": {},
     "output_type": "execute_result"
    },
    {
     "data": {
      "image/png": "[encoded data removed]",
      "text/plain": [
       "<Figure size 720x504 with 2 Axes>"
      ]
     },
     "metadata": {
      "needs_background": "light"
     },
     "output_type": "display_data"
    }
   ],
   "source": [
    "#Confusion Matrix of XGB.\n",
    "cm = confusion_matrix(y_val, y_preds_xgb)\n",
    "\n",
    "x_axis_labels = [\"Retention\", \"Churn\"]\n",
    "y_axis_labels = [\"Retention\", \"Churn\"]\n",
    "\n",
    "f, ax = plt.subplots(figsize =(10,7))\n",
    "sns.heatmap(cm, annot = True, linewidths=0.2, linecolor=\"black\", fmt = \".0f\", ax=ax, cmap=\"Greens\", \n",
    "            xticklabels=x_axis_labels, yticklabels=y_axis_labels)\n",
    "plt.xlabel(\"PREDICTED LABEL\")\n",
    "plt.ylabel(\"TRUE LABEL\")\n",
    "plt.title('Confusion Matrix for XGB Model on Validation Set')"
   ]
  },
  {
   "cell_type": "markdown",
   "metadata": {},
   "source": [
    "### Random Forest Classifier Model on Validation Set (New Data)"
   ]
  },
  {
   "cell_type": "code",
   "execution_count": 59,
   "metadata": {},
   "outputs": [],
   "source": [
    "y_val_rfc = rfc.predict(X_val)"
   ]
  },
  {
   "cell_type": "code",
   "execution_count": 60,
   "metadata": {},
   "outputs": [
    {
     "name": "stdout",
     "output_type": "stream",
     "text": [
      "Random Forest Clasifier validation score:  0.9965026812776872\n"
     ]
    }
   ],
   "source": [
    "print(\"Random Forest Clasifier validation score: \", accuracy_score(y_val, y_val_rfc))"
   ]
  },
  {
   "cell_type": "code",
   "execution_count": 61,
   "metadata": {},
   "outputs": [
    {
     "name": "stdout",
     "output_type": "stream",
     "text": [
      "Random Forest Clasifier model's Classification Report on Validation Set: \n",
      " \n",
      "               precision    recall  f1-score   support\n",
      "\n",
      "           0       0.90      0.91      0.90     34809\n",
      "           1       0.10      0.09      0.10      3792\n",
      "\n",
      "    accuracy                           0.83     38601\n",
      "   macro avg       0.50      0.50      0.50     38601\n",
      "weighted avg       0.82      0.83      0.82     38601\n",
      "\n"
     ]
    }
   ],
   "source": [
    "print(\"Random Forest Clasifier model's Classification Report on Validation Set: \\n \\n\", classification_report(y_val, y_preds_rfc))"
   ]
  },
  {
   "cell_type": "code",
   "execution_count": 62,
   "metadata": {},
   "outputs": [
    {
     "data": {
      "text/plain": [
       "Text(0.5, 1.0, 'Confusion Matrix for Random Forest Clasifier Model on Validation Set')"
      ]
     },
     "execution_count": 62,
     "metadata": {},
     "output_type": "execute_result"
    },
    {
     "data": {
      "image/png": "[encoded data removed]",
      "text/plain": [
       "<Figure size 720x504 with 2 Axes>"
      ]
     },
     "metadata": {
      "needs_background": "light"
     },
     "output_type": "display_data"
    }
   ],
   "source": [
    "#Confusion Matrix of Random Forest Clasifier.\n",
    "cm_rfc = confusion_matrix(y_val, y_preds_rfc)\n",
    "\n",
    "x_axis_labels = [\"Retention\", \"Churn\"]\n",
    "y_axis_labels = [\"Retention\", \"Churn\"]\n",
    "\n",
    "f, ax = plt.subplots(figsize =(10,7))\n",
    "sns.heatmap(cm_rfc, annot = True, linewidths=0.2, linecolor=\"black\", fmt = \".0f\", ax=ax, cmap=\"Greens\", \n",
    "            xticklabels=x_axis_labels, yticklabels=y_axis_labels)\n",
    "\n",
    "plt.xlabel(\"PREDICTED LABEL\")\n",
    "plt.ylabel(\"TRUE LABEL\")\n",
    "plt.title('Confusion Matrix for Random Forest Clasifier Model on Validation Set')"
   ]
  },
  {
   "cell_type": "markdown",
   "metadata": {},
   "source": [
    "## Checking the important features"
   ]
  },
  {
   "cell_type": "code",
   "execution_count": 63,
   "metadata": {},
   "outputs": [
    {
     "name": "stdout",
     "output_type": "stream",
     "text": [
      "[9.80207108e-02 3.87669151e-02 9.71936081e-02 5.03453492e-03\n",
      " 1.40718612e-01 1.04255879e-01 1.02188352e-02 2.70220456e-02\n",
      " 6.34526453e-03 2.12536533e-02 6.50068141e-03 6.95108793e-03\n",
      " 1.24484834e-01 1.33733780e-01 4.98818572e-02 2.27972679e-02\n",
      " 1.55036927e-02 9.30052119e-03 5.41705016e-03 7.65496342e-02\n",
      " 4.95352834e-05]\n"
     ]
    }
   ],
   "source": [
    "print(rfc.feature_importances_)"
   ]
  },
  {
   "cell_type": "code",
   "execution_count": 64,
   "metadata": {},
   "outputs": [],
   "source": [
    "rfc_features = pd.Series(rfc.feature_importances_)"
   ]
  },
  {
   "cell_type": "code",
   "execution_count": 65,
   "metadata": {},
   "outputs": [],
   "source": [
    "rfc_features.index = X_train.columns"
   ]
  },
  {
   "cell_type": "code",
   "execution_count": 67,
   "metadata": {},
   "outputs": [
    {
     "name": "stdout",
     "output_type": "stream",
     "text": [
      "cons_12m                                    0.140719\n",
      "net_margin                                  0.133734\n",
      "forecast_meter_rent_12m                     0.124485\n",
      "cons_last_month                             0.104256\n",
      "margin_gross_pow_ele                        0.098021\n",
      "margin_net_pow_ele                          0.097194\n",
      "pow_max                                     0.076550\n",
      "forecast_price_energy_p2                    0.049882\n",
      "num_years_antig                             0.038767\n",
      "cons_gas_12m                                0.027022\n",
      "price_p2_var                                0.022797\n",
      "price_p3_var                                0.021254\n",
      "nb_prod_act                                 0.015504\n",
      "ChSales_foosdfpfkusacimwkcsosbicdxkicaua    0.010219\n",
      "forecast_discount_energy                    0.009301\n",
      "has_gas_                                    0.006951\n",
      "price_p2_fix                                0.006501\n",
      "price_p3_fix                                0.006345\n",
      "ChSales_ewpakwlliwisiwduibdlfmalxowmwpci    0.005417\n",
      "ChSales_lmkebamcaaclubfxadlmueccxoimlema    0.005035\n",
      "ChSales_sddiedcslfslkckwlfkdpoeeailfpeds    0.000050\n",
      "dtype: float64\n"
     ]
    }
   ],
   "source": [
    "print(rfc_features.sort_values(ascending=False))"
   ]
  },
  {
   "cell_type": "markdown",
   "metadata": {},
   "source": [
    "### ~ The above table shows the features and its corresponding scores."
   ]
  },
  {
   "cell_type": "code",
   "execution_count": null,
   "metadata": {},
   "outputs": [],
   "source": []
  }
 ],
 "metadata": {
  "kernelspec": {
   "display_name": "Python 3",
   "language": "python",
   "name": "python3"
  },
  "language_info": {
   "codemirror_mode": {
    "name": "ipython",
    "version": 3
   },
   "file_extension": ".py",
   "mimetype": "text/x-python",
   "name": "python",
   "nbconvert_exporter": "python",
   "pygments_lexer": "ipython3",
   "version": "3.7.6"
  }
 },
 "nbformat": 4,
 "nbformat_minor": 4
}
